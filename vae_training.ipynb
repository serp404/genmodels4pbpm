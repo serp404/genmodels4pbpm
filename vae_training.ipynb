{
 "cells": [
  {
   "cell_type": "code",
   "execution_count": null,
   "id": "1fbe6324",
   "metadata": {},
   "outputs": [],
   "source": [
    "%load_ext autoreload\n",
    "%autoreload 2"
   ]
  },
  {
   "cell_type": "code",
   "execution_count": null,
   "id": "c229b829",
   "metadata": {
    "cellId": "brd3emapjr6qk08lf2nnzo"
   },
   "outputs": [],
   "source": [
    "#!g1.1\n",
    "import os\n",
    "import torch\n",
    "import torch.nn as nn\n",
    "import torch.nn.functional as F\n",
    "import torchtext\n",
    "import pandas as pd\n",
    "import numpy as np\n",
    "import matplotlib.pyplot as plt\n",
    "import seaborn as sns\n",
    "import random\n",
    "import pm4py\n",
    "import tqdm\n",
    "\n",
    "import warnings\n",
    "warnings.filterwarnings(\"ignore\", category=UserWarning)\n",
    "\n",
    "random.seed(3407)\n",
    "torch.manual_seed(3407)\n",
    "torch.cuda.manual_seed(3407)\n",
    "np.random.seed(3407)\n",
    "torch.backends.cudnn.deterministic = True\n",
    "torch.backends.cudnn.benchmark = False\n",
    "\n",
    "import wandb\n",
    "wandb.login()"
   ]
  },
  {
   "cell_type": "markdown",
   "id": "d8d8a51b",
   "metadata": {
    "cellId": "64c8whhbq2j2aotn8ehaei"
   },
   "source": [
    "# Baseline data processing"
   ]
  },
  {
   "cell_type": "code",
   "execution_count": null,
   "id": "3b49b3b5",
   "metadata": {
    "cellId": "a93m7q7o73tx8221vi8bdd"
   },
   "outputs": [],
   "source": [
    "#!g1.1\n",
    "LOG_TYPE = 'bpi12'\n",
    "event_log = pm4py.objects.log.importer.xes.importer.apply(f'./data/{LOG_TYPE}.xes')"
   ]
  },
  {
   "cell_type": "code",
   "execution_count": null,
   "id": "ca2a3898",
   "metadata": {
    "cellId": "io6ed75ujdaoz4euc0kwk"
   },
   "outputs": [],
   "source": [
    "#!g1.1\n",
    "from logmentations.datasets import filter_log\n",
    "\n",
    "event_log_filtered = filter_log(event_log, LOG_TYPE)"
   ]
  },
  {
   "cell_type": "code",
   "execution_count": null,
   "id": "8a1fb45b",
   "metadata": {
    "cellId": "wt522ts0mfhjj50rh1na2"
   },
   "outputs": [],
   "source": [
    "#!g1.1\n",
    "act2id = {'<PAD>': 0, '<BOS>': 1, '<EOS>': 2}\n",
    "id2act = {0: '<PAD>', 1: '<BOS>', 2: '<EOS>'}\n",
    "\n",
    "freqs = {}\n",
    "\n",
    "current_id = 3\n",
    "for t in event_log_filtered:\n",
    "    for e in t:\n",
    "        if e['concept:name'] not in act2id:\n",
    "            act2id[e['concept:name']] = current_id\n",
    "            id2act[current_id] = e['concept:name']\n",
    "            current_id += 1\n",
    "\n",
    "        freqs[act2id[e['concept:name']]] = freqs.get(act2id[e['concept:name']], 0) + 1\n",
    "\n",
    "events_cnt = sum(cnt for act, cnt in freqs.items())\n",
    "weights = {act: events_cnt / (2 * cnt) for act, cnt in freqs.items()}\n",
    "print(weights)"
   ]
  },
  {
   "cell_type": "code",
   "execution_count": null,
   "id": "ec0efc71",
   "metadata": {
    "cellId": "ya2qea2grlvp3saz0uxm"
   },
   "outputs": [],
   "source": [
    "#!g1.1\n",
    "from logmentations.utils import time_aware_data_split\n",
    "\n",
    "train_log, val_log, test_log = time_aware_data_split(event_log_filtered, (0.7, 0.1, 0.2))"
   ]
  },
  {
   "cell_type": "code",
   "execution_count": null,
   "id": "5457b13a",
   "metadata": {
    "cellId": "snt976v03wrbcukytart"
   },
   "outputs": [],
   "source": [
    "#!g1.1\n",
    "from logmentations.datasets import LogsDataset\n",
    "\n",
    "normalizer_value = np.percentile(\n",
    "    [np.max(np.diff([t[i]['time:timestamp'].timestamp() for i in range(len(t))]))\n",
    "         for t in event_log_filtered], q=90\n",
    ")\n",
    "\n",
    "def time_scaling(time: float) -> float:\n",
    "    return time / normalizer_value\n",
    "\n",
    "def invert_scaling(scaled_time: float) -> float:\n",
    "    return scaled_time * normalizer_value\n",
    "\n",
    "train_ds = LogsDataset(train_log, act2id, time_applyer=time_scaling)\n",
    "val_ds = LogsDataset(val_log, act2id, time_applyer=time_scaling)\n",
    "test_ds = LogsDataset(test_log, act2id, time_applyer=time_scaling)\n",
    "\n",
    "print(f'Median duration: {normalizer_value}')"
   ]
  },
  {
   "cell_type": "code",
   "execution_count": null,
   "id": "dfce5939",
   "metadata": {
    "cellId": "3zvj4h171qm3bb55lvcpzy"
   },
   "outputs": [],
   "source": [
    "#!g1.1\n",
    "from logmentations.utils import generation_collate_fn\n",
    "from logmentations.datasets import LengthAwareSampler\n",
    "\n",
    "DEVICE = torch.device('cuda' if torch.cuda.is_available() else 'cpu')\n",
    "BATCH_SIZE = 64\n",
    "NUM_WORKERS = 4\n",
    "\n",
    "train_loader = torch.utils.data.DataLoader(\n",
    "    dataset=train_ds,\n",
    "    batch_sampler=LengthAwareSampler(\n",
    "        data_len=len(train_ds),\n",
    "        batch_size=BATCH_SIZE,\n",
    "        group_size=BATCH_SIZE * 16\n",
    "    ),\n",
    "    collate_fn=generation_collate_fn,\n",
    "    pin_memory=True,\n",
    "    num_workers=NUM_WORKERS\n",
    ")\n",
    "\n",
    "val_loader = torch.utils.data.DataLoader(\n",
    "    dataset=val_ds,\n",
    "    batch_size=BATCH_SIZE,\n",
    "    shuffle=False,\n",
    "    collate_fn=generation_collate_fn,\n",
    "    pin_memory=True,\n",
    "    num_workers=NUM_WORKERS\n",
    ")\n",
    "\n",
    "test_loader = torch.utils.data.DataLoader(\n",
    "    dataset=test_ds,\n",
    "    batch_size=BATCH_SIZE,\n",
    "    shuffle=False,\n",
    "    collate_fn=generation_collate_fn,\n",
    "    pin_memory=True,\n",
    "    num_workers=NUM_WORKERS\n",
    ")"
   ]
  },
  {
   "cell_type": "markdown",
   "id": "1afe0a8f",
   "metadata": {
    "cellId": "fswcgzagxgptzfodpztg7o"
   },
   "source": [
    "# Model training"
   ]
  },
  {
   "cell_type": "code",
   "execution_count": null,
   "id": "df5310eb",
   "metadata": {
    "cellId": "f2f9myw5wtnfuub3yfwql"
   },
   "outputs": [],
   "source": [
    "#!g1.1\n",
    "import typing as tp\n",
    "from logmentations.models import LogVAE, LogAE\n",
    "from logmentations.training import BaseConfig, train_generative_epoch, eval_generative_model\n",
    "from logmentations.utils import kld_weight_annealing\n",
    "\n",
    "avg_weight = np.mean([w for act, w in weights.items()])\n",
    "loss_weights = torch.tensor([avg_weight] * 3 + [w for act, w in sorted(weights.items())], device=DEVICE).float()\n",
    "\n",
    "model = LogVAE(\n",
    "    n_features=27, latent_dim=256, num_classes=26,\n",
    "    emb_dim=64, hid_dim=128, num_layers=3, bidirectional=True\n",
    ").to(DEVICE)\n",
    "\n",
    "N_EPOCHS = 50\n",
    "SAVE_PERIOD = 10\n",
    "optimizer = torch.optim.Adam(model.parameters(), lr=0.0005)\n",
    "scheduler = torch.optim.lr_scheduler.CosineAnnealingLR(optimizer, T_max=N_EPOCHS)\n",
    "\n",
    "CONFIG = BaseConfig({\n",
    "    \"n_epochs\": N_EPOCHS,\n",
    "    \"save_period\": SAVE_PERIOD,\n",
    "    \"optimizer\": optimizer,\n",
    "    \"scheduler\": scheduler,\n",
    "    \"grad_clip_value\": 5.,\n",
    "    \"act_weight\": 1.,\n",
    "    \"time_weight\": 0.8,\n",
    "    \"kld_weight\": 0.,\n",
    "    \"device\": DEVICE,\n",
    "    \"loss_weights\": loss_weights\n",
    "})"
   ]
  },
  {
   "cell_type": "code",
   "execution_count": null,
   "id": "f152ce98",
   "metadata": {
    "cellId": "3l31939xx9adwpj9uula4"
   },
   "outputs": [],
   "source": [
    "#!g1.1\n",
    "run = wandb.init(\n",
    "    project=\"GenModels4PBPM-Generation\",\n",
    "    entity=\"serp404\",\n",
    "    tags=[\"generation\", \"VAE\", LOG_TYPE]\n",
    ")\n",
    "\n",
    "save_path = os.path.join(\"./checkpoints\", run.name)\n",
    "if not os.path.exists(save_path):\n",
    "    os.mkdir(save_path)\n",
    "\n",
    "best_cer = None\n",
    "for epoch in tqdm.notebook.tqdm(range(N_EPOCHS), \"Training\"):\n",
    "    # Train step\n",
    "    train_loss, train_act, train_times, train_kld, grad_norm = train_generative_epoch(\n",
    "        model, train_loader, CONFIG\n",
    "    )\n",
    "\n",
    "    scheduler.step()\n",
    "    CONFIG.kld_weight = kld_weight_annealing(epoch, N_EPOCHS, max_value=0.0001)\n",
    "\n",
    "    # Validation step\n",
    "    val_min_accuracy, val_cer, val_mae, val_length_mae = eval_generative_model(\n",
    "        model, val_loader, CONFIG\n",
    "    )\n",
    "\n",
    "    metrics = {\n",
    "        \"epoch\": epoch,\n",
    "        \"train_loss\": train_loss,\n",
    "        \"train_act_loss\": train_act,\n",
    "        \"train_time_loss\": train_times,\n",
    "        \"grad_norm\": grad_norm,\n",
    "        \"val_min_accuracy\": val_min_accuracy,\n",
    "        \"val_cer\": val_cer,\n",
    "        \"val_mae\": val_mae,\n",
    "        \"val_length_mae\": val_length_mae,\n",
    "        \"lr\": optimizer.param_groups[0]['lr']\n",
    "    }\n",
    "\n",
    "    if type(model) == LogVAE:\n",
    "        metrics[\"train_kld_loss\"] = train_kld\n",
    "    wandb.log(metrics)\n",
    "\n",
    "    if best_cer is None or val_cer < best_cer:\n",
    "        torch.save(model.state_dict(), os.path.join(save_path, \"model_best.pth\"))\n",
    "        best_cer = val_cer\n",
    "\n",
    "    if epoch % SAVE_PERIOD == 0:\n",
    "        torch.save(model.state_dict(), os.path.join(save_path, f\"model_e{epoch}.pth\"))\n",
    "\n",
    "run.finish()"
   ]
  },
  {
   "cell_type": "markdown",
   "id": "0354c1be",
   "metadata": {
    "cellId": "5tmvbrb44mfmq2cuzbi05c"
   },
   "source": [
    "## Model evaluation"
   ]
  },
  {
   "cell_type": "code",
   "execution_count": null,
   "id": "260039f7",
   "metadata": {
    "cellId": "i31zddxrfp320oaz2e68q"
   },
   "outputs": [],
   "source": [
    "#!g1.1\n",
    "model_best = LogVAE(\n",
    "    n_features=28, latent_dim=256, num_classes=27,\n",
    "    emb_dim=64, hid_dim=128, num_layers=3, bidirectional=True\n",
    ").to(DEVICE)\n",
    "\n",
    "model_best.load_state_dict(torch.load(os.path.join(save_path, 'model_best.pth'), map_location=DEVICE))\n",
    "\n",
    "# Test step\n",
    "accuracies = []\n",
    "cers = []\n",
    "maes = []\n",
    "length_maes = []\n",
    "\n",
    "N_RUNS = 20\n",
    "for _ in tqdm.tqdm(list(range(N_RUNS))):\n",
    "    min_accuracy, cer, mae, length_mae = eval_generative_model(\n",
    "        model_best, test_loader, CONFIG\n",
    "    )\n",
    "    \n",
    "    accuracies.append(min_accuracy)\n",
    "    cers.append(cer)\n",
    "    maes.append(mae)\n",
    "    length_maes.append(length_mae)\n",
    "\n",
    "print(f'Min-accuracy: {np.mean(accuracies)}')\n",
    "print(f'CER: {np.mean(cers)}')\n",
    "print(f'MAE: {np.mean(maes)}')\n",
    "print(f'Inverted MAE (days): {invert_scaling(np.mean(maes)) / 3600 / 24}')\n",
    "print(f'Length MAE: {np.mean(length_maes)}')"
   ]
  },
  {
   "cell_type": "code",
   "execution_count": null,
   "id": "0418ab15",
   "metadata": {
    "cellId": "kdr1a884uffojpz7akyhyg"
   },
   "outputs": [],
   "source": [
    "#!g1.1"
   ]
  }
 ],
 "metadata": {
  "kernelspec": {
   "display_name": "Python 3 (ipykernel)",
   "language": "python",
   "name": "python3"
  },
  "language_info": {
   "codemirror_mode": {
    "name": "ipython",
    "version": 3
   },
   "file_extension": ".py",
   "mimetype": "text/x-python",
   "name": "python",
   "nbconvert_exporter": "python",
   "pygments_lexer": "ipython3",
   "version": "3.9.6"
  },
  "notebookId": "285d0990-c3e8-400a-b482-f2bf6a4d19d1",
  "notebookPath": "genmodels4pbpm-main/demo_neural.ipynb"
 },
 "nbformat": 4,
 "nbformat_minor": 5
}
